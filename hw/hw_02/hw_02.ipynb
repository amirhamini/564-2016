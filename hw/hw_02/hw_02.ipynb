{
 "cells": [
  {
   "cell_type": "code",
   "execution_count": 1,
   "metadata": {
    "collapsed": true
   },
   "outputs": [],
   "source": [
    "import numpy as np\n",
    "from numpy import linalg as LA\n",
    "import numpy as np\n",
    "from scipy import integrate\n",
    "from matplotlib.pylab import *\n",
    "%matplotlib inline"
   ]
  },
  {
   "cell_type": "markdown",
   "metadata": {},
   "source": [
    "Define the matrix A:"
   ]
  },
  {
   "cell_type": "code",
   "execution_count": 2,
   "metadata": {
    "collapsed": false
   },
   "outputs": [
    {
     "name": "stdout",
     "output_type": "stream",
     "text": [
      "[[ 0.  1.]\n",
      " [-6. -5.]]\n"
     ]
    }
   ],
   "source": [
    "A = np.array([[0., 1], [-6, -5]])\n",
    "print A"
   ]
  },
  {
   "cell_type": "markdown",
   "metadata": {},
   "source": [
    "Calculate Eigenvalues and Eigenvectors:"
   ]
  },
  {
   "cell_type": "code",
   "execution_count": 3,
   "metadata": {
    "collapsed": true
   },
   "outputs": [],
   "source": [
    "w, v =  LA.eig(A)"
   ]
  },
  {
   "cell_type": "markdown",
   "metadata": {},
   "source": [
    "Display the EigenValues:"
   ]
  },
  {
   "cell_type": "code",
   "execution_count": 4,
   "metadata": {
    "collapsed": false
   },
   "outputs": [
    {
     "name": "stdout",
     "output_type": "stream",
     "text": [
      "[-2. -3.]\n"
     ]
    }
   ],
   "source": [
    "print w"
   ]
  },
  {
   "cell_type": "markdown",
   "metadata": {},
   "source": [
    "Display the EigenVectors:"
   ]
  },
  {
   "cell_type": "code",
   "execution_count": 5,
   "metadata": {
    "collapsed": false
   },
   "outputs": [
    {
     "name": "stdout",
     "output_type": "stream",
     "text": [
      "[ 0.4472136  -0.89442719]\n",
      "[-0.31622777  0.9486833 ]\n"
     ]
    }
   ],
   "source": [
    "for i in xrange(len(w)):\n",
    "    print v[:,i]"
   ]
  },
  {
   "cell_type": "code",
   "execution_count": 6,
   "metadata": {
    "collapsed": false
   },
   "outputs": [
    {
     "name": "stdout",
     "output_type": "stream",
     "text": [
      "[[ 1  1]\n",
      " [-3 -2]]\n"
     ]
    }
   ],
   "source": [
    "T = np.array([[1, 1],[-3, -2]])\n",
    "print T"
   ]
  },
  {
   "cell_type": "code",
   "execution_count": 7,
   "metadata": {
    "collapsed": false
   },
   "outputs": [
    {
     "name": "stdout",
     "output_type": "stream",
     "text": [
      "[[-2. -1.]\n",
      " [ 3.  1.]]\n"
     ]
    }
   ],
   "source": [
    "print LA.inv(T)"
   ]
  },
  {
   "cell_type": "code",
   "execution_count": 8,
   "metadata": {
    "collapsed": false
   },
   "outputs": [
    {
     "name": "stdout",
     "output_type": "stream",
     "text": [
      "[[ 0  1  0]\n",
      " [ 0  0  1]\n",
      " [ 4  4 -1]]\n"
     ]
    }
   ],
   "source": [
    "B = np.array([[0, 1, 0],[0, 0, 1],[4, 4, -1]])\n",
    "print B"
   ]
  },
  {
   "cell_type": "code",
   "execution_count": 9,
   "metadata": {
    "collapsed": false
   },
   "outputs": [
    {
     "name": "stdout",
     "output_type": "stream",
     "text": [
      "[-2. -1.  2.]\n"
     ]
    }
   ],
   "source": [
    "w_2, v_2 =  LA.eig(B)\n",
    "print w_2"
   ]
  },
  {
   "cell_type": "code",
   "execution_count": 19,
   "metadata": {
    "collapsed": false
   },
   "outputs": [
    {
     "name": "stdout",
     "output_type": "stream",
     "text": [
      "[-0.21821789  0.43643578 -0.87287156]\n",
      "[-0.57735027  0.57735027 -0.57735027]\n",
      "[-0.21821789 -0.43643578 -0.87287156]\n"
     ]
    }
   ],
   "source": [
    "for i in xrange(len(w_2)):\n",
    "    print v_2[:,i]"
   ]
  },
  {
   "cell_type": "code",
   "execution_count": 26,
   "metadata": {
    "collapsed": false
   },
   "outputs": [
    {
     "name": "stdout",
     "output_type": "stream",
     "text": [
      "[[ 1  1  1]\n",
      " [-2 -1  2]\n",
      " [ 4  1  4]]\n",
      "[[ -6.  -3.   3.]\n",
      " [ 16.   0.  -4.]\n",
      " [  2.   3.   1.]]\n"
     ]
    }
   ],
   "source": [
    "T = np.array([[1, 1, 1],[-2, -1, 2],[4, 1, 4]])\n",
    "print T\n",
    "print 12*LA.inv(T)"
   ]
  },
  {
   "cell_type": "code",
   "execution_count": 3,
   "metadata": {
    "collapsed": false
   },
   "outputs": [
    {
     "name": "stdout",
     "output_type": "stream",
     "text": [
      "[[ 0  1  0  0]\n",
      " [-2  0  1  0]\n",
      " [ 0  0  0  1]\n",
      " [ 1  0 -1  0]]\n"
     ]
    }
   ],
   "source": [
    "C = np.array([[0, 1, 0, 0],[-2, 0, 1, 0], [0, 0, 0, 1], [1, 0, -1, 0]])\n",
    "print C"
   ]
  },
  {
   "cell_type": "code",
   "execution_count": 4,
   "metadata": {
    "collapsed": false
   },
   "outputs": [
    {
     "name": "stdout",
     "output_type": "stream",
     "text": [
      "[ 0.+1.61803399j  0.-1.61803399j  0.+0.61803399j  0.-0.61803399j]\n"
     ]
    }
   ],
   "source": [
    "w_3, v_3 =  LA.eig(C)\n",
    "print w_3"
   ]
  },
  {
   "cell_type": "code",
   "execution_count": null,
   "metadata": {
    "collapsed": true
   },
   "outputs": [],
   "source": []
  }
 ],
 "metadata": {
  "kernelspec": {
   "display_name": "Python 2",
   "language": "python",
   "name": "python2"
  },
  "language_info": {
   "codemirror_mode": {
    "name": "ipython",
    "version": 2
   },
   "file_extension": ".py",
   "mimetype": "text/x-python",
   "name": "python",
   "nbconvert_exporter": "python",
   "pygments_lexer": "ipython2",
   "version": "2.7.11"
  }
 },
 "nbformat": 4,
 "nbformat_minor": 0
}
